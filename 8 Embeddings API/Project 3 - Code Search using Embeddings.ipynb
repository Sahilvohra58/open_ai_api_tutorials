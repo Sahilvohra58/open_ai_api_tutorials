{
 "cells": [
  {
   "cell_type": "markdown",
   "metadata": {},
   "source": [
    "# Code Search Using Embeddings and Cosine Similarity\n",
    "\n",
    "\n",
    "Source: https://cookbook.openai.com/examples/code_search_using_embeddings"
   ]
  },
  {
   "cell_type": "markdown",
   "metadata": {},
   "source": [
    "### Create Code Parsing Code\n",
    "\n",
    "The following code will do the following steps:\n",
    "1. Open and load files(as a big string) with a `.py` extension at the end (Open only python files).\n",
    "2. Extract functions in each file  - Extracts function name, code and path to file seperately.\n",
    "3. Iterates throughout an entire directory and stores the parsed data into a list of dictionaries."
   ]
  },
  {
   "cell_type": "code",
   "execution_count": 7,
   "metadata": {},
   "outputs": [],
   "source": [
    "import pandas as pd\n",
    "from pathlib import Path\n",
    "\n",
    "DEF_PREFIXES = ['def ', 'async def ']\n",
    "NEWLINE = '\\n'\n",
    "\n",
    "def get_function_name(code):\n",
    "    \"\"\"\n",
    "    Extract function name from a line beginning with 'def' or 'async def'.\n",
    "    \"\"\"\n",
    "    for prefix in DEF_PREFIXES:\n",
    "        if code.startswith(prefix):\n",
    "            return code[len(prefix): code.index('(')]\n",
    "\n",
    "\n",
    "def get_until_no_space(all_lines, i):\n",
    "    \"\"\"\n",
    "    Get all lines until a line outside the function definition is found.\n",
    "    \"\"\"\n",
    "    ret = [all_lines[i]]\n",
    "    for j in range(i + 1, len(all_lines)):\n",
    "        if len(all_lines[j]) == 0 or all_lines[j][0] in [' ', '\\t', ')']:\n",
    "            ret.append(all_lines[j])\n",
    "        else:\n",
    "            break\n",
    "    return NEWLINE.join(ret)\n",
    "\n",
    "\n",
    "def get_functions(filepath):\n",
    "    \"\"\"\n",
    "    Get all functions in a Python file.\n",
    "    \"\"\"\n",
    "    with open(filepath, 'r') as file:\n",
    "        all_lines = file.read().replace('\\r', NEWLINE).split(NEWLINE)\n",
    "        for i, l in enumerate(all_lines):\n",
    "            for prefix in DEF_PREFIXES:\n",
    "                if l.startswith(prefix):\n",
    "                    code = get_until_no_space(all_lines, i)\n",
    "                    function_name = get_function_name(code)\n",
    "                    yield {\n",
    "                        'code': code,\n",
    "                        'function_name': function_name,\n",
    "                        'filepath': filepath,\n",
    "                    }\n",
    "                    break\n",
    "\n",
    "\n",
    "def extract_functions_from_repo(code_root):\n",
    "    \"\"\"\n",
    "    Extract all .py functions from the repository.\n",
    "    \"\"\"\n",
    "    code_files = list(code_root.glob('**/*.py'))\n",
    "\n",
    "    num_files = len(code_files)\n",
    "    print(f'Total number of .py files: {num_files}')\n",
    "\n",
    "    if num_files == 0:\n",
    "        print('Verify openai-python repo exists and code_root is set correctly.')\n",
    "        return None\n",
    "\n",
    "    all_funcs = [\n",
    "        func\n",
    "        for code_file in code_files\n",
    "        for func in get_functions(str(code_file))\n",
    "    ]\n",
    "\n",
    "    num_funcs = len(all_funcs)\n",
    "    print(f'Total number of functions extracted: {num_funcs}')\n",
    "\n",
    "    return all_funcs"
   ]
  },
  {
   "cell_type": "markdown",
   "metadata": {},
   "source": [
    "### Clone a Sample Repo"
   ]
  },
  {
   "cell_type": "code",
   "execution_count": 10,
   "metadata": {},
   "outputs": [
    {
     "name": "stderr",
     "output_type": "stream",
     "text": [
      "Cloning into 'openai-python'...\n"
     ]
    }
   ],
   "source": [
    "!git clone https://github.com/openai/openai-python.git"
   ]
  },
  {
   "cell_type": "markdown",
   "metadata": {},
   "source": [
    "### Extract Functions In The Given Rep"
   ]
  },
  {
   "cell_type": "code",
   "execution_count": 25,
   "metadata": {},
   "outputs": [
    {
     "name": "stdout",
     "output_type": "stream",
     "text": [
      "Total number of .py files: 383\n",
      "Total number of functions extracted: 410\n"
     ]
    }
   ],
   "source": [
    "# Set user root directory to the 'openai-python' repository\n",
    "# root_dir = Path.home()\n",
    "root_dir = Path().absolute()\n",
    "\n",
    "\n",
    "# Assumes the 'openai-python' repository exists in the user's root directory\n",
    "code_root = root_dir / 'openai-python'\n",
    "\n",
    "# Extract all functions from the repository\n",
    "all_funcs = extract_functions_from_repo(code_root)"
   ]
  },
  {
   "cell_type": "code",
   "execution_count": 30,
   "metadata": {},
   "outputs": [
    {
     "name": "stdout",
     "output_type": "stream",
     "text": [
      "def test_pydantic_v1(session: nox.Session) -> None:\n",
      "    session.install(\"-r\", \"requirements-dev.lock\")\n",
      "    session.install(\"pydantic<2\")\n",
      "\n",
      "    session.run(\"pytest\", \"--showlocals\", \"--ignore=tests/functional\", *session.posargs)\n",
      "\n",
      "test_pydantic_v1\n",
      "c:\\Users\\Sahil\\Desktop\\Projects\\open_ai_api_tutorials\\8 Embeddings API\\openai-python\\noxfile.py\n"
     ]
    }
   ],
   "source": [
    "fun1 = all_funcs[0]\n",
    "print(fun1[\"code\"])\n",
    "print(fun1[\"function_name\"])\n",
    "print(fun1[\"filepath\"])\n"
   ]
  },
  {
   "cell_type": "code",
   "execution_count": 32,
   "metadata": {},
   "outputs": [
    {
     "data": {
      "text/plain": [
       "410"
      ]
     },
     "execution_count": 32,
     "metadata": {},
     "output_type": "execute_result"
    }
   ],
   "source": [
    "len(all_funcs)"
   ]
  },
  {
   "cell_type": "markdown",
   "metadata": {},
   "source": [
    "### Create Embeddings For All The Extracted Functions"
   ]
  },
  {
   "cell_type": "code",
   "execution_count": 35,
   "metadata": {},
   "outputs": [
    {
     "data": {
      "text/html": [
       "<div>\n",
       "<style scoped>\n",
       "    .dataframe tbody tr th:only-of-type {\n",
       "        vertical-align: middle;\n",
       "    }\n",
       "\n",
       "    .dataframe tbody tr th {\n",
       "        vertical-align: top;\n",
       "    }\n",
       "\n",
       "    .dataframe thead th {\n",
       "        text-align: right;\n",
       "    }\n",
       "</style>\n",
       "<table border=\"1\" class=\"dataframe\">\n",
       "  <thead>\n",
       "    <tr style=\"text-align: right;\">\n",
       "      <th></th>\n",
       "      <th>code</th>\n",
       "      <th>function_name</th>\n",
       "      <th>filepath</th>\n",
       "      <th>code_embedding</th>\n",
       "    </tr>\n",
       "  </thead>\n",
       "  <tbody>\n",
       "    <tr>\n",
       "      <th>0</th>\n",
       "      <td>def test_pydantic_v1(session: nox.Session) -&gt; ...</td>\n",
       "      <td>test_pydantic_v1</td>\n",
       "      <td>noxfile.py</td>\n",
       "      <td>[0.007481125183403492, 0.00924705620855093, 0....</td>\n",
       "    </tr>\n",
       "    <tr>\n",
       "      <th>1</th>\n",
       "      <td>def main() -&gt; None:\\n    client = openai.OpenA...</td>\n",
       "      <td>main</td>\n",
       "      <td>examples\\assistant_stream_helpers.py</td>\n",
       "      <td>[0.01728219725191593, 0.01183176226913929, 0.0...</td>\n",
       "    </tr>\n",
       "    <tr>\n",
       "      <th>2</th>\n",
       "      <td>async def main() -&gt; None:\\n    stream = await ...</td>\n",
       "      <td>main</td>\n",
       "      <td>examples\\async_demo.py</td>\n",
       "      <td>[0.036569662392139435, 0.024040671065449715, 0...</td>\n",
       "    </tr>\n",
       "    <tr>\n",
       "      <th>3</th>\n",
       "      <td>def main() -&gt; None:\\n    stream_to_speakers()\\...</td>\n",
       "      <td>main</td>\n",
       "      <td>examples\\audio.py</td>\n",
       "      <td>[0.020340846851468086, 0.0199880450963974, 0.0...</td>\n",
       "    </tr>\n",
       "    <tr>\n",
       "      <th>4</th>\n",
       "      <td>def stream_to_speakers() -&gt; None:\\n    import ...</td>\n",
       "      <td>stream_to_speakers</td>\n",
       "      <td>examples\\audio.py</td>\n",
       "      <td>[0.010680544190108776, -0.019652200862765312, ...</td>\n",
       "    </tr>\n",
       "  </tbody>\n",
       "</table>\n",
       "</div>"
      ],
      "text/plain": [
       "                                                code       function_name  \\\n",
       "0  def test_pydantic_v1(session: nox.Session) -> ...    test_pydantic_v1   \n",
       "1  def main() -> None:\\n    client = openai.OpenA...                main   \n",
       "2  async def main() -> None:\\n    stream = await ...                main   \n",
       "3  def main() -> None:\\n    stream_to_speakers()\\...                main   \n",
       "4  def stream_to_speakers() -> None:\\n    import ...  stream_to_speakers   \n",
       "\n",
       "                               filepath  \\\n",
       "0                            noxfile.py   \n",
       "1  examples\\assistant_stream_helpers.py   \n",
       "2                examples\\async_demo.py   \n",
       "3                     examples\\audio.py   \n",
       "4                     examples\\audio.py   \n",
       "\n",
       "                                      code_embedding  \n",
       "0  [0.007481125183403492, 0.00924705620855093, 0....  \n",
       "1  [0.01728219725191593, 0.01183176226913929, 0.0...  \n",
       "2  [0.036569662392139435, 0.024040671065449715, 0...  \n",
       "3  [0.020340846851468086, 0.0199880450963974, 0.0...  \n",
       "4  [0.010680544190108776, -0.019652200862765312, ...  "
      ]
     },
     "execution_count": 35,
     "metadata": {},
     "output_type": "execute_result"
    }
   ],
   "source": [
    "from utils.embedding_utils import get_embedding\n",
    "\n",
    "df = pd.DataFrame(all_funcs)\n",
    "\n",
    "# Might take longer time. Will make around 400 api requests\n",
    "\n",
    "# The following line of code will get you embeddings of only first two records.\n",
    "# Run it if you want to save cost and only see results\n",
    "df['code_embedding'] = df[:2]['code'].apply(lambda x: get_embedding(x, model='text-embedding-3-small'))\n",
    "\n",
    "# The following line of code will get you embeddings of the entire dataframe.\n",
    "# Running this would incure you cost. \n",
    "# df['code_embedding'] = df[:2]['code'].apply(lambda x: get_embedding(x, model='text-embedding-3-small'))\n",
    "\n",
    "df['filepath'] = df['filepath'].map(lambda x: Path(x).relative_to(code_root))\n",
    "df.head()"
   ]
  },
  {
   "cell_type": "code",
   "execution_count": 36,
   "metadata": {},
   "outputs": [],
   "source": [
    "## Save the embeddings only if you have generated embeddings on entire dataframe. \n",
    "# df.to_csv(\"data/code_search_openai-python.csv\", index=False)\n"
   ]
  },
  {
   "cell_type": "markdown",
   "metadata": {},
   "source": [
    "Run the following lines of code only if you have not generated embeddings of entire dataframe to save cost"
   ]
  },
  {
   "cell_type": "code",
   "execution_count": null,
   "metadata": {},
   "outputs": [],
   "source": [
    "# from ast import literal_eval\n",
    "# import numpy as np\n",
    "\n",
    "# df = pd.read_csv(\"data/code_search_openai-python.csv\")\n",
    "# df[\"code_embedding\"] = df.code_embedding.apply(literal_eval).apply(np.array)\n",
    "\n",
    "# df.head()"
   ]
  },
  {
   "cell_type": "markdown",
   "metadata": {},
   "source": [
    "### Create Simantic Search Function"
   ]
  },
  {
   "cell_type": "code",
   "execution_count": 37,
   "metadata": {},
   "outputs": [],
   "source": [
    "from utils.embedding_utils import cosine_similarity\n",
    "\n",
    "def search_functions(df, code_query, n=3, pprint=True, n_lines=7):\n",
    "    embedding = get_embedding(code_query, model='text-embedding-3-small')\n",
    "    df['similarities'] = df.code_embedding.apply(lambda x: cosine_similarity(x, embedding))\n",
    "\n",
    "    res = df.sort_values('similarities', ascending=False).head(n)\n",
    "\n",
    "    if pprint:\n",
    "        for r in res.iterrows():\n",
    "            print(f\"{r[1].filepath}:{r[1].function_name}  score={round(r[1].similarities, 3)}\")\n",
    "            print(\"\\n\".join(r[1].code.split(\"\\n\")[:n_lines]))\n",
    "            print('-' * 70)\n",
    "\n",
    "    return res"
   ]
  },
  {
   "cell_type": "markdown",
   "metadata": {},
   "source": [
    "### Perform Inference"
   ]
  },
  {
   "cell_type": "code",
   "execution_count": 38,
   "metadata": {},
   "outputs": [
    {
     "name": "stdout",
     "output_type": "stream",
     "text": [
      "src\\openai\\lib\\_validators.py:format_inferrer_validator  score=0.44\n",
      "def format_inferrer_validator(df: pd.DataFrame) -> Remediation:\n",
      "    \"\"\"\n",
      "    This validator will infer the likely fine-tuning format of the data, and display it to the user if it is classification.\n",
      "    It will also suggest to use ada and explain train/validation split benefits.\n",
      "    \"\"\"\n",
      "    ft_type = infer_task_type(df)\n",
      "    immediate_msg = None\n",
      "----------------------------------------------------------------------\n",
      "src\\openai\\lib\\_parsing\\_completions.py:validate_input_tools  score=0.367\n",
      "def validate_input_tools(\n",
      "    tools: Iterable[ChatCompletionToolParam] | NotGiven = NOT_GIVEN,\n",
      ") -> None:\n",
      "    if not is_given(tools):\n",
      "        return\n",
      "\n",
      "    for tool in tools:\n",
      "----------------------------------------------------------------------\n",
      "src\\openai\\lib\\_validators.py:common_prompt_suffix_validator  score=0.357\n",
      "def common_prompt_suffix_validator(df: pd.DataFrame) -> Remediation:\n",
      "    \"\"\"\n",
      "    This validator will suggest to add a common suffix to the prompt if one doesn't already exist in case of classification or conditional generation.\n",
      "    \"\"\"\n",
      "    error_msg = None\n",
      "    immediate_msg = None\n",
      "    optional_msg = None\n",
      "----------------------------------------------------------------------\n"
     ]
    }
   ],
   "source": [
    "res = search_functions(df, 'fine-tuning input data validation logic', n=3)"
   ]
  },
  {
   "cell_type": "code",
   "execution_count": 39,
   "metadata": {},
   "outputs": [
    {
     "data": {
      "text/html": [
       "<div>\n",
       "<style scoped>\n",
       "    .dataframe tbody tr th:only-of-type {\n",
       "        vertical-align: middle;\n",
       "    }\n",
       "\n",
       "    .dataframe tbody tr th {\n",
       "        vertical-align: top;\n",
       "    }\n",
       "\n",
       "    .dataframe thead th {\n",
       "        text-align: right;\n",
       "    }\n",
       "</style>\n",
       "<table border=\"1\" class=\"dataframe\">\n",
       "  <thead>\n",
       "    <tr style=\"text-align: right;\">\n",
       "      <th></th>\n",
       "      <th>code</th>\n",
       "      <th>function_name</th>\n",
       "      <th>filepath</th>\n",
       "      <th>code_embedding</th>\n",
       "      <th>similarities</th>\n",
       "    </tr>\n",
       "  </thead>\n",
       "  <tbody>\n",
       "    <tr>\n",
       "      <th>119</th>\n",
       "      <td>def format_inferrer_validator(df: pd.DataFrame...</td>\n",
       "      <td>format_inferrer_validator</td>\n",
       "      <td>src\\openai\\lib\\_validators.py</td>\n",
       "      <td>[-0.008124016225337982, 0.040148280560970306, ...</td>\n",
       "      <td>0.439511</td>\n",
       "    </tr>\n",
       "    <tr>\n",
       "      <th>136</th>\n",
       "      <td>def validate_input_tools(\\n    tools: Iterable...</td>\n",
       "      <td>validate_input_tools</td>\n",
       "      <td>src\\openai\\lib\\_parsing\\_completions.py</td>\n",
       "      <td>[0.028309985995292664, 0.06668996810913086, -0...</td>\n",
       "      <td>0.366878</td>\n",
       "    </tr>\n",
       "    <tr>\n",
       "      <th>112</th>\n",
       "      <td>def common_prompt_suffix_validator(df: pd.Data...</td>\n",
       "      <td>common_prompt_suffix_validator</td>\n",
       "      <td>src\\openai\\lib\\_validators.py</td>\n",
       "      <td>[0.04706217721104622, 0.014239056967198849, 0....</td>\n",
       "      <td>0.357211</td>\n",
       "    </tr>\n",
       "  </tbody>\n",
       "</table>\n",
       "</div>"
      ],
      "text/plain": [
       "                                                  code  \\\n",
       "119  def format_inferrer_validator(df: pd.DataFrame...   \n",
       "136  def validate_input_tools(\\n    tools: Iterable...   \n",
       "112  def common_prompt_suffix_validator(df: pd.Data...   \n",
       "\n",
       "                      function_name                                 filepath  \\\n",
       "119       format_inferrer_validator            src\\openai\\lib\\_validators.py   \n",
       "136            validate_input_tools  src\\openai\\lib\\_parsing\\_completions.py   \n",
       "112  common_prompt_suffix_validator            src\\openai\\lib\\_validators.py   \n",
       "\n",
       "                                        code_embedding  similarities  \n",
       "119  [-0.008124016225337982, 0.040148280560970306, ...      0.439511  \n",
       "136  [0.028309985995292664, 0.06668996810913086, -0...      0.366878  \n",
       "112  [0.04706217721104622, 0.014239056967198849, 0....      0.357211  "
      ]
     },
     "execution_count": 39,
     "metadata": {},
     "output_type": "execute_result"
    }
   ],
   "source": [
    "res"
   ]
  },
  {
   "cell_type": "code",
   "execution_count": 40,
   "metadata": {},
   "outputs": [
    {
     "name": "stdout",
     "output_type": "stream",
     "text": [
      "src\\openai\\lib\\_validators.py:get_common_xfix  score=0.51\n",
      "def get_common_xfix(series: Any, xfix: str = \"suffix\") -> str:\n",
      "    \"\"\"\n",
      "    Finds the longest common suffix or prefix of all the values in a series\n",
      "    \"\"\"\n",
      "    common_xfix = \"\"\n",
      "    while True:\n",
      "        common_xfixes = (\n",
      "            series.str[-(len(common_xfix) + 1) :] if xfix == \"suffix\" else series.str[: len(common_xfix) + 1]\n",
      "        )  # first few or last few characters\n",
      "        if common_xfixes.nunique() != 1:  # we found the character at which we don't have a unique xfix anymore\n",
      "----------------------------------------------------------------------\n",
      "src\\openai\\lib\\_validators.py:common_completion_suffix_validator  score=0.451\n",
      "def common_completion_suffix_validator(df: pd.DataFrame) -> Remediation:\n",
      "    \"\"\"\n",
      "    This validator will suggest to add a common suffix to the completion if one doesn't already exist in case of classification or conditional generation.\n",
      "    \"\"\"\n",
      "    error_msg = None\n",
      "    immediate_msg = None\n",
      "    optional_msg = None\n",
      "    optional_fn = None  # type: ignore\n",
      "\n",
      "    ft_type = infer_task_type(df)\n",
      "----------------------------------------------------------------------\n"
     ]
    }
   ],
   "source": [
    "res = search_functions(df, 'find common suffix', n=2, n_lines=10)"
   ]
  },
  {
   "cell_type": "code",
   "execution_count": 41,
   "metadata": {},
   "outputs": [
    {
     "name": "stdout",
     "output_type": "stream",
     "text": [
      "src\\openai\\lib\\_validators.py:write_out_file  score=0.353\n",
      "def write_out_file(df: pd.DataFrame, fname: str, any_remediations: bool, auto_accept: bool) -> None:\n",
      "    \"\"\"\n",
      "    This function will write out a dataframe to a file, if the user would like to proceed, and also offer a fine-tuning command with the newly created file.\n",
      "    For classification it will optionally ask the user if they would like to split the data into train/valid files, and modify the suggested command to include the valid set.\n",
      "    \"\"\"\n",
      "    ft_format = infer_task_type(df)\n",
      "    common_prompt_suffix = get_common_xfix(df.prompt, xfix=\"suffix\")\n",
      "    common_completion_suffix = get_common_xfix(df.completion, xfix=\"suffix\")\n",
      "\n",
      "    split = False\n",
      "    input_text = \"- [Recommended] Would you like to split into training and validation set? [Y/n]: \"\n",
      "    if ft_format == \"classification\":\n",
      "        if accept_suggestion(input_text, auto_accept):\n",
      "            split = True\n",
      "\n",
      "    additional_params = \"\"\n",
      "    common_prompt_suffix_new_line_handled = common_prompt_suffix.replace(\"\\n\", \"\\\\n\")\n",
      "    common_completion_suffix_new_line_handled = common_completion_suffix.replace(\"\\n\", \"\\\\n\")\n",
      "    optional_ending_string = (\n",
      "        f' Make sure to include `stop=[\"{common_completion_suffix_new_line_handled}\"]` so that the generated texts ends at the expected place.'\n",
      "----------------------------------------------------------------------\n"
     ]
    }
   ],
   "source": [
    "res = search_functions(df, 'Command line interface for fine-tuning', n=1, n_lines=20)"
   ]
  }
 ],
 "metadata": {
  "kernelspec": {
   "display_name": "base",
   "language": "python",
   "name": "python3"
  },
  "language_info": {
   "codemirror_mode": {
    "name": "ipython",
    "version": 3
   },
   "file_extension": ".py",
   "mimetype": "text/x-python",
   "name": "python",
   "nbconvert_exporter": "python",
   "pygments_lexer": "ipython3",
   "version": "3.11.7"
  }
 },
 "nbformat": 4,
 "nbformat_minor": 2
}
