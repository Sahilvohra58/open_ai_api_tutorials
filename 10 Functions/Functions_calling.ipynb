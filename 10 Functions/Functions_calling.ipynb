{
  "cells": [
    {
      "cell_type": "markdown",
      "metadata": {},
      "source": [
        "# Functions Calling"
      ]
    },
    {
      "cell_type": "markdown",
      "metadata": {},
      "source": [
        "### Setup Functions"
      ]
    },
    {
      "cell_type": "code",
      "execution_count": 16,
      "metadata": {
        "id": "ud2D1EYBAxGh"
      },
      "outputs": [],
      "source": [
        "from openai import OpenAI\n",
        "client = OpenAI()"
      ]
    },
    {
      "cell_type": "code",
      "execution_count": 62,
      "metadata": {},
      "outputs": [],
      "source": [
        "def get_current_temperature(location, unit):\n",
        "  # print(f\"Got following strings - {location}, {unit}\")\n",
        "  return str(57)\n",
        "\n",
        "def get_rain_probability(location):\n",
        "  # print(f\"Got following strings - {location}\")\n",
        "  return str(0.06)"
      ]
    },
    {
      "cell_type": "code",
      "execution_count": 39,
      "metadata": {},
      "outputs": [],
      "source": [
        "function_data_1 = {\n",
        "        \"name\": \"get_current_temperature\",\n",
        "        \"description\": \"Get the current temperature for a specific location\",\n",
        "        \"parameters\": {\n",
        "          \"type\": \"object\",\n",
        "          \"properties\": {\n",
        "            \"location\": {\n",
        "              \"type\": \"string\",\n",
        "              \"description\": \"The city and state, e.g., San Francisco, CA\"\n",
        "            },\n",
        "            \"unit\": {\n",
        "              \"type\": \"string\",\n",
        "              \"enum\": [\"Celsius\", \"Fahrenheit\"],\n",
        "              \"description\": \"The temperature unit to use. Infer this from the user's location.\"\n",
        "            }\n",
        "          },\n",
        "          \"required\": [\"location\", \"unit\"]\n",
        "        }\n",
        "      }\n",
        "\n",
        "\n",
        "function_data_2 = {\n",
        "        \"name\": \"get_rain_probability\",\n",
        "        \"description\": \"Get the probability of rain for a specific location\",\n",
        "        \"parameters\": {\n",
        "          \"type\": \"object\",\n",
        "          \"properties\": {\n",
        "            \"location\": {\n",
        "              \"type\": \"string\",\n",
        "              \"description\": \"The city and state, e.g., San Francisco, CA\"\n",
        "            }\n",
        "          },\n",
        "          \"required\": [\"location\"]\n",
        "        }\n",
        "      }"
      ]
    },
    {
      "cell_type": "code",
      "execution_count": 40,
      "metadata": {},
      "outputs": [],
      "source": [
        "tools=[\n",
        "    {\n",
        "      \"type\": \"function\",\n",
        "      \"function\": function_data_1\n",
        "    },\n",
        "    {\n",
        "      \"type\": \"function\",\n",
        "      \"function\": function_data_2\n",
        "    }\n",
        "  ]"
      ]
    },
    {
      "cell_type": "markdown",
      "metadata": {},
      "source": [
        "### Functions Calling with Chat Completion API"
      ]
    },
    {
      "cell_type": "code",
      "execution_count": 93,
      "metadata": {},
      "outputs": [],
      "source": [
        "messages = []\n",
        "messages.append({\"role\": \"system\", \"content\": \"You are a weather bot. Use the provided functions to answer questions\"})\n",
        "messages.append({\"role\": \"user\", \"content\": \"What's the weather in Toronto today and the likelihood it'll rain?\"}) \n",
        "\n",
        "response = client.chat.completions.create(\n",
        "    model='gpt-4o-2024-08-06',\n",
        "    messages=messages,\n",
        "    tools=tools\n",
        ")"
      ]
    },
    {
      "cell_type": "code",
      "execution_count": 94,
      "metadata": {},
      "outputs": [
        {
          "data": {
            "text/plain": [
              "{'content': None,\n",
              " 'role': 'assistant',\n",
              " 'function_call': None,\n",
              " 'tool_calls': [{'id': 'call_9T3VX0EqixjQtAyRIK9aEZRb',\n",
              "   'function': {'arguments': '{\"location\": \"Toronto, ON\", \"unit\": \"Celsius\"}',\n",
              "    'name': 'get_current_temperature'},\n",
              "   'type': 'function'},\n",
              "  {'id': 'call_ChhR81PDFdm8WqfrCumNXwUI',\n",
              "   'function': {'arguments': '{\"location\": \"Toronto, ON\"}',\n",
              "    'name': 'get_rain_probability'},\n",
              "   'type': 'function'}],\n",
              " 'refusal': None}"
            ]
          },
          "execution_count": 94,
          "metadata": {},
          "output_type": "execute_result"
        }
      ],
      "source": [
        "response_message = response.choices[0].message.dict()\n",
        "response_message"
      ]
    },
    {
      "cell_type": "code",
      "execution_count": 95,
      "metadata": {},
      "outputs": [
        {
          "name": "stdout",
          "output_type": "stream",
          "text": [
            "get_current_temperature(**{\"location\": \"Toronto, ON\", \"unit\": \"Celsius\"})\n",
            "get_rain_probability(**{\"location\": \"Toronto, ON\"})\n"
          ]
        }
      ],
      "source": [
        "response_message = response.choices[0].message.dict()\n",
        "messages.append(response_message)\n",
        "\n",
        "for idx, function_call in enumerate(response_message[\"tool_calls\"]):\n",
        "  function_str = function_call[\"function\"][\"name\"] + \"(**\"+function_call[\"function\"][\"arguments\"] + \")\"\n",
        "  print(function_str)\n",
        "  messages.append({\n",
        "    \"role\": \"tool\",\n",
        "    \"content\": eval(function_str),\n",
        "    \"tool_call_id\": response_message['tool_calls'][idx]['id']\n",
        "    })"
      ]
    },
    {
      "cell_type": "code",
      "execution_count": 98,
      "metadata": {},
      "outputs": [],
      "source": [
        "response = client.chat.completions.create(\n",
        "    model='gpt-4o-2024-08-06',\n",
        "    messages=messages,\n",
        "    tools=tools\n",
        ")"
      ]
    },
    {
      "cell_type": "code",
      "execution_count": 99,
      "metadata": {},
      "outputs": [
        {
          "data": {
            "text/plain": [
              "{'content': 'The current temperature in Toronto is 57°C, and there is a 6% likelihood of rain today.',\n",
              " 'role': 'assistant',\n",
              " 'function_call': None,\n",
              " 'tool_calls': None,\n",
              " 'refusal': None}"
            ]
          },
          "execution_count": 99,
          "metadata": {},
          "output_type": "execute_result"
        }
      ],
      "source": [
        "response.choices[0].message.dict()\n"
      ]
    },
    {
      "cell_type": "markdown",
      "metadata": {},
      "source": [
        "### Function Calling With Assistants"
      ]
    },
    {
      "cell_type": "code",
      "execution_count": 19,
      "metadata": {
        "id": "n3fhAtPfA8qF"
      },
      "outputs": [],
      "source": [
        "assistant = client.beta.assistants.create(\n",
        "  instructions=\"You are a weather bot. Use the provided functions to answer questions.\",\n",
        "  model=\"gpt-4o\",\n",
        "  tools=[\n",
        "    {\n",
        "      \"type\": \"function\",\n",
        "      \"function\": function_data_1\n",
        "    },\n",
        "    {\n",
        "      \"type\": \"function\",\n",
        "      \"function\": function_data_2\n",
        "    }\n",
        "  ]\n",
        ")"
      ]
    },
    {
      "cell_type": "code",
      "execution_count": 20,
      "metadata": {
        "id": "f0JIc0pIA_8E"
      },
      "outputs": [],
      "source": [
        "thread = client.beta.threads.create()\n",
        "message = client.beta.threads.messages.create(\n",
        "  thread_id=thread.id,\n",
        "  role=\"user\",\n",
        "  content=\"What's the weather in Toronto today and the likelihood it'll rain?\",\n",
        ")"
      ]
    },
    {
      "cell_type": "markdown",
      "metadata": {},
      "source": [
        "### Execute a Run"
      ]
    },
    {
      "cell_type": "code",
      "execution_count": 21,
      "metadata": {
        "id": "BMkr2T2BBB_p"
      },
      "outputs": [],
      "source": [
        "run = client.beta.threads.runs.create_and_poll(\n",
        "  thread_id=thread.id,\n",
        "  assistant_id=assistant.id,\n",
        ")"
      ]
    },
    {
      "cell_type": "code",
      "execution_count": 22,
      "metadata": {},
      "outputs": [
        {
          "data": {
            "text/plain": [
              "'requires_action'"
            ]
          },
          "execution_count": 22,
          "metadata": {},
          "output_type": "execute_result"
        }
      ],
      "source": [
        "run.status"
      ]
    },
    {
      "cell_type": "code",
      "execution_count": 23,
      "metadata": {},
      "outputs": [
        {
          "data": {
            "text/plain": [
              "{'id': 'run_0DBHJLwB2ZQT7SgbH15yba1F',\n",
              " 'assistant_id': 'asst_g98zNgVowf19K7ImXgKrOoto',\n",
              " 'cancelled_at': None,\n",
              " 'completed_at': None,\n",
              " 'created_at': 1724356135,\n",
              " 'expires_at': 1724356735,\n",
              " 'failed_at': None,\n",
              " 'incomplete_details': None,\n",
              " 'instructions': 'You are a weather bot. Use the provided functions to answer questions.',\n",
              " 'last_error': None,\n",
              " 'max_completion_tokens': None,\n",
              " 'max_prompt_tokens': None,\n",
              " 'metadata': {},\n",
              " 'model': 'gpt-4o',\n",
              " 'object': 'thread.run',\n",
              " 'parallel_tool_calls': True,\n",
              " 'required_action': {'submit_tool_outputs': {'tool_calls': [{'id': 'call_uAV7KJFt9aVPbPsmZPbDaoao',\n",
              "     'function': {'arguments': '{\"location\": \"Toronto, ON\", \"unit\": \"Celsius\"}',\n",
              "      'name': 'get_current_temperature'},\n",
              "     'type': 'function'},\n",
              "    {'id': 'call_nYT0CK24d4970dY8arXznCUp',\n",
              "     'function': {'arguments': '{\"location\": \"Toronto, ON\"}',\n",
              "      'name': 'get_rain_probability'},\n",
              "     'type': 'function'}]},\n",
              "  'type': 'submit_tool_outputs'},\n",
              " 'response_format': 'auto',\n",
              " 'started_at': 1724356138,\n",
              " 'status': 'requires_action',\n",
              " 'thread_id': 'thread_3lrVbl18udfxwEAQIg7nASaG',\n",
              " 'tool_choice': 'auto',\n",
              " 'tools': [{'function': {'name': 'get_current_temperature',\n",
              "    'description': 'Get the current temperature for a specific location',\n",
              "    'parameters': {'type': 'object',\n",
              "     'properties': {'location': {'type': 'string',\n",
              "       'description': 'The city and state, e.g., San Francisco, CA'},\n",
              "      'unit': {'type': 'string',\n",
              "       'enum': ['Celsius', 'Fahrenheit'],\n",
              "       'description': \"The temperature unit to use. Infer this from the user's location.\"}},\n",
              "     'required': ['location', 'unit']},\n",
              "    'strict': False},\n",
              "   'type': 'function'},\n",
              "  {'function': {'name': 'get_rain_probability',\n",
              "    'description': 'Get the probability of rain for a specific location',\n",
              "    'parameters': {'type': 'object',\n",
              "     'properties': {'location': {'type': 'string',\n",
              "       'description': 'The city and state, e.g., San Francisco, CA'}},\n",
              "     'required': ['location']},\n",
              "    'strict': False},\n",
              "   'type': 'function'}],\n",
              " 'truncation_strategy': {'type': 'auto', 'last_messages': None},\n",
              " 'usage': None,\n",
              " 'temperature': 1.0,\n",
              " 'top_p': 1.0,\n",
              " 'tool_resources': {}}"
            ]
          },
          "execution_count": 23,
          "metadata": {},
          "output_type": "execute_result"
        }
      ],
      "source": [
        "run.dict()"
      ]
    },
    {
      "cell_type": "markdown",
      "metadata": {},
      "source": [
        "### Extract and Execute Function Calls"
      ]
    },
    {
      "cell_type": "code",
      "execution_count": 25,
      "metadata": {
        "colab": {
          "base_uri": "https://localhost:8080/"
        },
        "id": "I8YFXZjmOWP2",
        "outputId": "0629b893-e5be-4ff9-d8c7-c148c8fb866b"
      },
      "outputs": [
        {
          "name": "stdout",
          "output_type": "stream",
          "text": [
            "get_current_temperature(**{\"location\": \"Toronto, ON\", \"unit\": \"Celsius\"})\n",
            "Got following strings - Toronto, ON, Celsius\n",
            "57\n",
            "get_rain_probability(**{\"location\": \"Toronto, ON\"})\n",
            "Got following strings - Toronto, ON\n",
            "0.06\n"
          ]
        }
      ],
      "source": [
        "for function_call in run.dict()[\"required_action\"][\"submit_tool_outputs\"][\"tool_calls\"]:\n",
        "  print(function_call[\"function\"][\"name\"] + \"(**\"+function_call[\"function\"][\"arguments\"] + \")\")\n",
        "  print(eval(function_call[\"function\"][\"name\"] + \"(**\"+function_call[\"function\"][\"arguments\"] + \")\"))"
      ]
    },
    {
      "cell_type": "code",
      "execution_count": 26,
      "metadata": {
        "colab": {
          "base_uri": "https://localhost:8080/"
        },
        "id": "DXrmEo38BDc5",
        "outputId": "9552c75a-3874-4708-9c39-763f96c9eee3"
      },
      "outputs": [
        {
          "name": "stdout",
          "output_type": "stream",
          "text": [
            "requires_action\n"
          ]
        }
      ],
      "source": [
        "if run.status == 'completed':\n",
        "  messages = client.beta.threads.messages.list(\n",
        "    thread_id=thread.id\n",
        "  )\n",
        "  print(messages.dict())\n",
        "else:\n",
        "  print(run.status)"
      ]
    },
    {
      "cell_type": "markdown",
      "metadata": {},
      "source": [
        "### Feeding Results to Model"
      ]
    },
    {
      "cell_type": "code",
      "execution_count": 27,
      "metadata": {
        "colab": {
          "base_uri": "https://localhost:8080/"
        },
        "id": "azhaosZJBGOE",
        "outputId": "61b6d539-bf77-4bf1-ea9f-0bc54a087396"
      },
      "outputs": [
        {
          "name": "stdout",
          "output_type": "stream",
          "text": [
            "Got following strings - Toronto, ON, Celsius\n",
            "Got following strings - Toronto, ON\n"
          ]
        }
      ],
      "source": [
        "# Define the list to store tool outputs\n",
        "tool_outputs = []\n",
        "\n",
        "# Loop through each tool in the required action section\n",
        "for tool in run.required_action.submit_tool_outputs.tool_calls:\n",
        "  if tool.function.name == \"get_current_temperature\":\n",
        "    tool_outputs.append({\n",
        "      \"tool_call_id\": tool.id,\n",
        "      \"output\": eval(tool.function.name  + \"(**\"+ tool.function.arguments + \")\")\n",
        "    })\n",
        "  elif tool.function.name == \"get_rain_probability\":\n",
        "    tool_outputs.append({\n",
        "      \"tool_call_id\": tool.id,\n",
        "      \"output\":  eval(tool.function.name  + \"(**\"+ tool.function.arguments + \")\")\n",
        "    })"
      ]
    },
    {
      "cell_type": "code",
      "execution_count": 28,
      "metadata": {},
      "outputs": [
        {
          "data": {
            "text/plain": [
              "[{'tool_call_id': 'call_uAV7KJFt9aVPbPsmZPbDaoao', 'output': '57'},\n",
              " {'tool_call_id': 'call_nYT0CK24d4970dY8arXznCUp', 'output': '0.06'}]"
            ]
          },
          "execution_count": 28,
          "metadata": {},
          "output_type": "execute_result"
        }
      ],
      "source": [
        "tool_outputs"
      ]
    },
    {
      "cell_type": "code",
      "execution_count": 29,
      "metadata": {
        "colab": {
          "base_uri": "https://localhost:8080/"
        },
        "id": "Cr4wMoxLBf3t",
        "outputId": "87a151b4-ea2e-4774-f214-91f54b0b91ac"
      },
      "outputs": [
        {
          "name": "stdout",
          "output_type": "stream",
          "text": [
            "Tool outputs submitted successfully.\n"
          ]
        }
      ],
      "source": [
        "# Submit all tool outputs at once after collecting them in a list\n",
        "if tool_outputs:\n",
        "  try:\n",
        "    run = client.beta.threads.runs.submit_tool_outputs_and_poll(\n",
        "      thread_id=thread.id,\n",
        "      run_id=run.id,\n",
        "      tool_outputs=tool_outputs\n",
        "    )\n",
        "    print(\"Tool outputs submitted successfully.\")\n",
        "  except Exception as e:\n",
        "    print(\"Failed to submit tool outputs:\", e)\n",
        "else:\n",
        "  print(\"No tool outputs to submit.\")"
      ]
    },
    {
      "cell_type": "code",
      "execution_count": 30,
      "metadata": {
        "colab": {
          "base_uri": "https://localhost:8080/"
        },
        "id": "Vs81-NGsBhrN",
        "outputId": "556b817b-a34f-4a43-df3d-72cc690ccb8e"
      },
      "outputs": [
        {
          "name": "stdout",
          "output_type": "stream",
          "text": [
            "SyncCursorPage[Message](data=[Message(id='msg_kL2Uk2WWezz0ffAdESngBe3R', assistant_id='asst_g98zNgVowf19K7ImXgKrOoto', attachments=[], completed_at=None, content=[TextContentBlock(text=Text(annotations=[], value='The current temperature in Toronto is 14°C (57°F), and the likelihood of rain today is 6%.'), type='text')], created_at=1724356471, incomplete_at=None, incomplete_details=None, metadata={}, object='thread.message', role='assistant', run_id='run_0DBHJLwB2ZQT7SgbH15yba1F', status=None, thread_id='thread_3lrVbl18udfxwEAQIg7nASaG'), Message(id='msg_6AK0wOo3CrMTKBXh8aPWzEce', assistant_id=None, attachments=[], completed_at=None, content=[TextContentBlock(text=Text(annotations=[], value=\"What's the weather in Toronto today and the likelihood it'll rain?\"), type='text')], created_at=1724356121, incomplete_at=None, incomplete_details=None, metadata={}, object='thread.message', role='user', run_id=None, status=None, thread_id='thread_3lrVbl18udfxwEAQIg7nASaG')], object='list', first_id='msg_kL2Uk2WWezz0ffAdESngBe3R', last_id='msg_6AK0wOo3CrMTKBXh8aPWzEce', has_more=False)\n"
          ]
        }
      ],
      "source": [
        "if run.status == 'completed':\n",
        "  messages = client.beta.threads.messages.list(\n",
        "    thread_id=thread.id\n",
        "  )\n",
        "  print(messages)\n",
        "else:\n",
        "  print(run.status)"
      ]
    },
    {
      "cell_type": "code",
      "execution_count": 38,
      "metadata": {
        "colab": {
          "base_uri": "https://localhost:8080/"
        },
        "id": "xNLZMvHlBnJF",
        "outputId": "a77ec60a-1bac-4366-a376-6958d71d8330"
      },
      "outputs": [
        {
          "data": {
            "text/plain": [
              "'The current temperature in Toronto is 14°C (57°F), and the likelihood of rain today is 6%.'"
            ]
          },
          "execution_count": 38,
          "metadata": {},
          "output_type": "execute_result"
        }
      ],
      "source": [
        "messages.dict()[\"data\"][0][\"content\"][0][\"text\"][\"value\"]"
      ]
    },
    {
      "cell_type": "code",
      "execution_count": null,
      "metadata": {},
      "outputs": [],
      "source": []
    }
  ],
  "metadata": {
    "colab": {
      "provenance": []
    },
    "kernelspec": {
      "display_name": "Python 3",
      "name": "python3"
    },
    "language_info": {
      "codemirror_mode": {
        "name": "ipython",
        "version": 3
      },
      "file_extension": ".py",
      "mimetype": "text/x-python",
      "name": "python",
      "nbconvert_exporter": "python",
      "pygments_lexer": "ipython3",
      "version": "3.8.19"
    }
  },
  "nbformat": 4,
  "nbformat_minor": 0
}
