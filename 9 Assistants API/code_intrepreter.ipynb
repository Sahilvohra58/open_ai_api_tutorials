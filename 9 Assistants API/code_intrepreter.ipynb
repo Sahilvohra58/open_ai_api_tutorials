{
 "cells": [
  {
   "cell_type": "markdown",
   "metadata": {},
   "source": [
    "# Code Intrepreter"
   ]
  },
  {
   "cell_type": "markdown",
   "metadata": {},
   "source": [
    "### Create An Assistant With Code Intrepreter"
   ]
  },
  {
   "cell_type": "code",
   "execution_count": 1,
   "metadata": {},
   "outputs": [],
   "source": [
    "from openai import OpenAI\n",
    " \n",
    "client = OpenAI()"
   ]
  },
  {
   "cell_type": "code",
   "execution_count": 61,
   "metadata": {},
   "outputs": [],
   "source": [
    "# Upload a file with an \"assistants\" purpose\n",
    "file = client.files.create(\n",
    "  file=open(\"data/revenue-forecast.csv\", \"rb\"),\n",
    "  purpose='assistants'\n",
    ")\n",
    "\n",
    "# Create an assistant using the file ID\n",
    "assistant = client.beta.assistants.create(\n",
    "  instructions=\"You are a personal math tutor. When asked a math question\",\n",
    "  model=\"gpt-4o\",\n",
    "  tools=[{\"type\": \"code_interpreter\"}],\n",
    "  tool_resources={\n",
    "    \"code_interpreter\": {\n",
    "      \"file_ids\": [file.id]\n",
    "    }\n",
    "  }\n",
    ")"
   ]
  },
  {
   "cell_type": "markdown",
   "metadata": {},
   "source": [
    "### Create A Thread"
   ]
  },
  {
   "cell_type": "code",
   "execution_count": 62,
   "metadata": {},
   "outputs": [],
   "source": [
    "thread = client.beta.threads.create(\n",
    "  messages=[\n",
    "    {\n",
    "      \"role\": \"user\",\n",
    "      \"content\": \"I need to solve the equation `3x + 11 = 14`. Can you help me?\",\n",
    "      \"attachments\": [\n",
    "        {\n",
    "          \"file_id\": file.id,\n",
    "          \"tools\": [{\"type\": \"code_interpreter\"}]\n",
    "        }\n",
    "      ]\n",
    "    }\n",
    "  ]\n",
    ")"
   ]
  },
  {
   "cell_type": "markdown",
   "metadata": {},
   "source": [
    "### Create A Run"
   ]
  },
  {
   "cell_type": "code",
   "execution_count": 63,
   "metadata": {},
   "outputs": [],
   "source": [
    "run = client.beta.threads.runs.create_and_poll(\n",
    "    thread_id=thread.id, assistant_id=assistant.id\n",
    ")"
   ]
  },
  {
   "cell_type": "markdown",
   "metadata": {},
   "source": [
    "### Explore Results"
   ]
  },
  {
   "cell_type": "code",
   "execution_count": 64,
   "metadata": {},
   "outputs": [],
   "source": [
    "run_steps = client.beta.threads.runs.steps.list(\n",
    "  thread_id=thread.id,\n",
    "  run_id=run.id\n",
    ")"
   ]
  },
  {
   "cell_type": "code",
   "execution_count": 67,
   "metadata": {},
   "outputs": [
    {
     "data": {
      "text/plain": [
       "[{'id': 'step_Pj7nELXwW6xcFDhurAvfYyUx',\n",
       "  'assistant_id': 'asst_h2xrhA7fkzjezjc5MrxybtS3',\n",
       "  'cancelled_at': None,\n",
       "  'completed_at': 1723670039,\n",
       "  'created_at': 1723670036,\n",
       "  'expired_at': None,\n",
       "  'failed_at': None,\n",
       "  'last_error': None,\n",
       "  'metadata': None,\n",
       "  'object': 'thread.run.step',\n",
       "  'run_id': 'run_znKqCYOdCPiyhQc5mAt5OeCh',\n",
       "  'status': 'completed',\n",
       "  'step_details': {'message_creation': {'message_id': 'msg_y51DsxyNad6qr6GPToXSFD3p'},\n",
       "   'type': 'message_creation'},\n",
       "  'thread_id': 'thread_Ku1Heyj0ysncwQhUf4gsNkE7',\n",
       "  'type': 'message_creation',\n",
       "  'usage': {'completion_tokens': 180,\n",
       "   'prompt_tokens': 344,\n",
       "   'total_tokens': 524},\n",
       "  'expires_at': None}]"
      ]
     },
     "execution_count": 67,
     "metadata": {},
     "output_type": "execute_result"
    }
   ],
   "source": [
    "run_steps.dict()[\"data\"]"
   ]
  },
  {
   "cell_type": "code",
   "execution_count": 60,
   "metadata": {},
   "outputs": [
    {
     "name": "stdout",
     "output_type": "stream",
     "text": [
      "import sympy as sp\n",
      "\n",
      "# Define the variable\n",
      "x = sp.symbols('x')\n",
      "\n",
      "# Define the equation\n",
      "equation = sp.Eq(3*x + 11, 14)\n",
      "\n",
      "# Solve the equation\n",
      "solution = sp.solve(equation, x)\n",
      "solution\n"
     ]
    }
   ],
   "source": [
    "print(run_steps.dict()[\"data\"][1][\"step_details\"][\"tool_calls\"][0][\"code_interpreter\"][\"input\"])"
   ]
  },
  {
   "cell_type": "code",
   "execution_count": null,
   "metadata": {},
   "outputs": [],
   "source": []
  }
 ],
 "metadata": {
  "kernelspec": {
   "display_name": "base",
   "language": "python",
   "name": "python3"
  },
  "language_info": {
   "codemirror_mode": {
    "name": "ipython",
    "version": 3
   },
   "file_extension": ".py",
   "mimetype": "text/x-python",
   "name": "python",
   "nbconvert_exporter": "python",
   "pygments_lexer": "ipython3",
   "version": "3.11.7"
  }
 },
 "nbformat": 4,
 "nbformat_minor": 2
}
