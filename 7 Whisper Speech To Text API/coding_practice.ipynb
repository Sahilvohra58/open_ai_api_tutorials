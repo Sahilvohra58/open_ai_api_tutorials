{
 "cells": [
  {
   "cell_type": "markdown",
   "metadata": {},
   "source": [
    "### Coding Practice with Text to Speech"
   ]
  },
  {
   "cell_type": "code",
   "execution_count": 1,
   "metadata": {},
   "outputs": [],
   "source": [
    "from openai import OpenAI\n",
    "client = OpenAI()\n",
    "\n",
    "speech_file_path = \"audio_files/speech.mp3\"\n",
    "prompt = \"I enjoy eating croissants with Schokolade and Käse for Frühstück.\"\n",
    "\n",
    "response = client.audio.speech.create(\n",
    "  model=\"tts-1\",\n",
    "  voice=\"alloy\",\n",
    "  input=prompt\n",
    ")\n",
    "\n",
    "response.stream_to_file(speech_file_path)"
   ]
  },
  {
   "cell_type": "markdown",
   "metadata": {},
   "source": [
    "In case the above code is deprecated use the following code: \n",
    "\n",
    "\n",
    " - If you run the following commented part then the code will error out.\n",
    " - It needs to be run in a context manager\n",
    "\n",
    "source: https://stackoverflow.com/questions/77842145/attributeerror-httpxbinaryresponsecontent-object-has-no-attribute-with-strea "
   ]
  },
  {
   "cell_type": "code",
   "execution_count": 10,
   "metadata": {},
   "outputs": [],
   "source": [
    "from openai import OpenAI\n",
    "client = OpenAI()\n",
    "speech_file_path = \"audio_files/speech_streaming.mp3\"\n",
    "prompt = \"I enjoy eating croissants with Schokolade and Käse for Frühstück.\"\n",
    "\n",
    "# response =  client.audio.speech.with_streaming_response.create(\n",
    "#         model=\"tts-1\",\n",
    "#         voice=\"alloy\",\n",
    "#         input=\"Today is a wonderful day to build something people love!\")\n",
    "# response.stream_to_file(speech_file_path)\n",
    "\n",
    "with client.audio.speech.with_streaming_response.create(\n",
    "        model=\"tts-1\",\n",
    "        voice=\"alloy\",\n",
    "        input=prompt\n",
    "    ) as response:\n",
    "        response.stream_to_file(speech_file_path)"
   ]
  },
  {
   "cell_type": "markdown",
   "metadata": {},
   "source": [
    "### Coding Practice Speech Transcriptions Without Prompting"
   ]
  },
  {
   "cell_type": "code",
   "execution_count": 3,
   "metadata": {},
   "outputs": [
    {
     "name": "stdout",
     "output_type": "stream",
     "text": [
      "I enjoy eating croissants with chocolate and quesa for Frühstück.\n"
     ]
    }
   ],
   "source": [
    "from openai import OpenAI\n",
    "client = OpenAI()\n",
    "speech_file_path = \"audio_files/speech_streaming.mp3\"\n",
    "\n",
    "\n",
    "audio_file= open(speech_file_path, \"rb\")\n",
    "transcription = client.audio.transcriptions.create(\n",
    "  model=\"whisper-1\", \n",
    "  file=audio_file\n",
    ")\n",
    "print(transcription.text)"
   ]
  },
  {
   "cell_type": "markdown",
   "metadata": {},
   "source": [
    "### Coding Practice Speech Transcriptions With Prompting"
   ]
  },
  {
   "cell_type": "code",
   "execution_count": 2,
   "metadata": {},
   "outputs": [
    {
     "name": "stdout",
     "output_type": "stream",
     "text": [
      "I enjoy eating croissants with Schokolade and Käse for Frühstück.\n",
      "\n"
     ]
    }
   ],
   "source": [
    "from openai import OpenAI\n",
    "client = OpenAI()\n",
    "speech_file_path = \"audio_files/speech_streaming.mp3\"\n",
    "\n",
    "\n",
    "audio_file= open(speech_file_path, \"rb\")\n",
    "transcription = client.audio.transcriptions.create(\n",
    "  model=\"whisper-1\", \n",
    "  file=audio_file,\n",
    "  response_format=\"text\",\n",
    "  prompt=\"Schokolade, Käse, Frühstück.\"\n",
    ")\n",
    "print(transcription)"
   ]
  },
  {
   "cell_type": "markdown",
   "metadata": {},
   "source": [
    "### Coding Practice Speech Translation"
   ]
  },
  {
   "cell_type": "code",
   "execution_count": 13,
   "metadata": {},
   "outputs": [
    {
     "name": "stdout",
     "output_type": "stream",
     "text": [
      "Hello, my name is Wolfgang and I come from Germany. Where are you going today?\n"
     ]
    }
   ],
   "source": [
    "from openai import OpenAI\n",
    "client = OpenAI()\n",
    "speech_file_path = \"audio_files/german.mp3\"\n",
    "\n",
    "\n",
    "audio_file= open(speech_file_path, \"rb\")\n",
    "translation = client.audio.translations.create(\n",
    "  model=\"whisper-1\", \n",
    "  file=audio_file\n",
    ")\n",
    "print(translation.text)"
   ]
  }
 ],
 "metadata": {
  "kernelspec": {
   "display_name": "base",
   "language": "python",
   "name": "python3"
  },
  "language_info": {
   "codemirror_mode": {
    "name": "ipython",
    "version": 3
   },
   "file_extension": ".py",
   "mimetype": "text/x-python",
   "name": "python",
   "nbconvert_exporter": "python",
   "pygments_lexer": "ipython3",
   "version": "3.11.7"
  }
 },
 "nbformat": 4,
 "nbformat_minor": 2
}
